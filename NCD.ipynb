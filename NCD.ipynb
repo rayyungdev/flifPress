{
 "cells": [
  {
   "cell_type": "code",
   "execution_count": 1,
   "metadata": {},
   "outputs": [],
   "source": [
    "from ctypes import *\n",
    "import os\n",
    "from matplotlib import pyplot as py\n",
    "import numpy as np\n",
    "from PIL import Image\n",
    "from gnist import *"
   ]
  },
  {
   "cell_type": "code",
   "execution_count": 1,
   "metadata": {},
   "outputs": [],
   "source": [
    "def imList(im): \n",
    "    if not isinstance(im, list):\n",
    "        X=[] #Create an empty list to store the numpy array (image)\n",
    "        if(len(np.shape(im)) > 2): #This is explicitly used for the gnist class. \n",
    "            #Current gnist functions return an image with \n",
    "            for ima in im:\n",
    "                X.append(ima)\n",
    "        else:\n",
    "            X.append(im) #Store the image in a list (For future preparation when we need to import multiple images)\n",
    "    else: \n",
    "        X=im.copy()\n",
    "    return X"
   ]
  },
  {
   "cell_type": "markdown",
   "metadata": {},
   "source": [
    "#### Plan: Focus on a single image. When you can make it work for a single image, branch off and consolidate from there. Current method only imports a single image. FIXED. "
   ]
  },
  {
   "cell_type": "code",
   "execution_count": 3,
   "metadata": {},
   "outputs": [],
   "source": [
    "def flifPress(im):\n",
    "    \n",
    "    LIB = CDLL (\"./lib/libflif.dll\") #import libflif library\n",
    "    X=imList(im) #Function shown above, appends images to a list. Currently WORKS. \n",
    "    \n",
    "    ####     Zero Padding:\n",
    "    [FW2, FH2] = max(np.shape(matx) for matx in X); #Find the largest dimensions in the list of images. \n",
    "    \n",
    "    for i in range(len(X)):\n",
    "        [curW, curH] = np.shape(X[i]); #Current W/H\n",
    "        padW = FW2 - curW +1; padH = FH2 - curH+1; #Difference between the max and the current dimensions + 1\n",
    "        X[i] = np.pad(X[i],((0,padW),(0,padH)))\n",
    "        \n",
    "    X = np.asarray(X) #Convert back the list to a numpy array because calculations run faster \n",
    "    \n",
    "    ######## Start up FLIF #################\n",
    "    create_enc = LIB.flif_create_encoder #Set up function \n",
    "    create_enc.restype = POINTER(c_void_p) #Create new pointer class to return void pointer. \n",
    "    enc = create_enc() #Actually start up FLIF\n",
    "    \n",
    "    import_image_GRAY=LIB.flif_import_image_GRAY #Set up import gray image function from FLIF library.\n",
    "    import_image_GRAY.restype=POINTER(c_void_p) #Designate to return a memory encoded pointer. \n",
    "    fim=[] #Flif Pointer. However, may need to fix this later as it currently returns void pointers as FLIF_pointers is a custom pointer\n",
    "    \n",
    "    for count in range(len(X)):\n",
    "        [W, H] = np.shape(X[count]) #New Width/New Height of Image (could be shortened to just FW2+1 & FH2+1)\n",
    "        pim = X[count].ctypes.data_as(c_void_p); #PIM is the pointer to the current image.\n",
    "        \n",
    "        temp=import_image_GRAY(W, H, pim, W) #Current flif pointer\n",
    "        fim.append(temp) #Append the flif pointer into the FIM list. \n",
    "        \n",
    "        encoder_add_image_move= LIB.flif_encoder_add_image_move;\n",
    "        encoder_add_image_move(enc, fim[count]) #Use function to return a pointer\n",
    "            \n",
    "    #####For Output##########\n",
    "    pdest=pointer(c_uint8())#Setting up Double Pointer. Will need to pass this on as a byref for double pointer\n",
    "    prsz=c_void_p(0);\n",
    "    \n",
    "    encode_mem=LIB.flif_encoder_encode_memory\n",
    "    encode_mem(enc, byref(pdest), byref(prsz))\n",
    "    nBytes=prsz.value\n",
    "    \n",
    "    #########Clean Up#######################\n",
    "    for fimi in fim: \n",
    "        LIB.flif_destroy_image(fimi)\n",
    "    LIB.flif_destroy_encoder(enc)\n",
    "    LIB.flif_free_memory(pdest)\n",
    "    return nBytes"
   ]
  },
  {
   "cell_type": "code",
   "execution_count": 4,
   "metadata": {},
   "outputs": [],
   "source": [
    "def imNCDM(X):\n",
    "    if not isinstance(X, list):\n",
    "        raise TypeError('input X requires a list of images')\n",
    "    if len(X) <= 1:\n",
    "        return 0 \n",
    "    \n",
    "    GX = flifPress(X); #Total bytes for entire image list. \n",
    "    cxi = [flifPress(x) for x in X] #Fliff press individual images in the list\n",
    "    \n",
    "    cxi = np.asarray(cxi);\n",
    "    gx= np.min(cxi)\n",
    "    \n",
    "    gExclude = [];\n",
    "    \n",
    "    for ni in range(len(X)):\n",
    "        xExclude = X.copy();\n",
    "        del xExclude[ni] #Remove the particular image at this index\n",
    "        gExclude.append(flifPress(xExclude))\n",
    "        \n",
    "    return ((GX - gx) / np.max(np.asarray(gExclude)))"
   ]
  },
  {
   "cell_type": "code",
   "execution_count": 5,
   "metadata": {},
   "outputs": [],
   "source": [
    "def Regularize(DistanceMat):\n",
    "    D = DistanceMat;\n",
    "    W, H = np.shape(D)\n",
    "    for i in range(W):\n",
    "        for j in range(H):\n",
    "            D[i,j] = np.max((D[i,j], D[j,i]));\n",
    "        D[i,i] = 0;\n",
    "    bound = D;\n",
    "    bW, bH = np.shape(bound);\n",
    "    for i in range(bW):\n",
    "        bound[i,i] = 0;\n",
    "    a = np.min(bound)\n",
    "    degenerate = 1 if a == 0 else 0\n",
    "    return D, degenerate"
   ]
  }
 ],
 "metadata": {
  "kernelspec": {
   "display_name": "Python 3",
   "language": "python",
   "name": "python3"
  },
  "language_info": {
   "codemirror_mode": {
    "name": "ipython",
    "version": 3
   },
   "file_extension": ".py",
   "mimetype": "text/x-python",
   "name": "python",
   "nbconvert_exporter": "python",
   "pygments_lexer": "ipython3",
   "version": "3.7.6"
  }
 },
 "nbformat": 4,
 "nbformat_minor": 4
}
