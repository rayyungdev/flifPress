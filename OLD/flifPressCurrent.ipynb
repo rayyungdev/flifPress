{
 "cells": [
  {
   "cell_type": "code",
   "execution_count": 1,
   "metadata": {},
   "outputs": [],
   "source": [
    "from ctypes import *\n",
    "import os\n",
    "from matplotlib import pyplot as py\n",
    "import numpy as np\n",
    "from inspect import getfullargspec\n",
    "import glob\n",
    "from mnist import MNIST\n",
    "import random\n",
    "import idx2numpy\n",
    "%matplotlib inline"
   ]
  },
  {
   "cell_type": "code",
   "execution_count": 1,
   "metadata": {},
   "outputs": [],
   "source": [
    "def imList(im): \n",
    "    if not isinstance(im, list):\n",
    "        X=[] #Create an empty list to store the numpy array (image)\n",
    "        if(len(np.shape(im)) > 2):\n",
    "            for ima in im:\n",
    "                X.append(ima)\n",
    "        else:\n",
    "            X.append(im) #Store the image in a list (For future preparation when we need to import multiple images)\n",
    "    else: \n",
    "        X=im\n",
    "    return X"
   ]
  },
  {
   "cell_type": "markdown",
   "metadata": {},
   "source": [
    "#### Plan: Focus on a single image. When you can make it work for a single image, branch off and consolidate from there. Current method only imports a single image."
   ]
  },
  {
   "cell_type": "code",
   "execution_count": 5,
   "metadata": {},
   "outputs": [],
   "source": [
    "def flifPress(im): \n",
    "    LIB = CDLL (\"./lib/libflif.dll\") #import libflif library\n",
    "    X=imList(im) #Will fix this function up later\n",
    "    \n",
    "    encfunc=LIB.flif_create_encoder #Set up function \n",
    "    encfunc.restype=POINTER(c_float) #declare a pointer to the function\n",
    "    enc=encfunc() #declare the function. Same thing will be used later. \n",
    "    fim=[]\n",
    "    [FW2, FH2] = max(np.shape(matx) for matx in X)\n",
    "\n",
    "    for i in range(len(X)):\n",
    "        \n",
    "        ###Next thing to work on is to fix the padding to pad the least values###\n",
    "        [curW, curH] = np.shape(X[i]);\n",
    "        padW = FW2 - curW +1; padH = FH2 - curH+1;\n",
    "        # if difference between length and height are greater than 1, pad the difference\n",
    "    \n",
    "        X[i] = np.pad(X[i],((0,padW),(0,padH))) \n",
    "        [W, H] = np.shape(X[i]) #New Width x Height\n",
    "        pim = X[i].ctypes.data_as(POINTER(c_float)) #calling the pointer at the numpy array.\n",
    "              \n",
    "        fimfunc=LIB.flif_import_image_GRAY #Set up function\n",
    "        fimfunc.restype=POINTER(c_void_p) #Set up pointer to the function\n",
    "        \n",
    "        temp=fimfunc(W, H, pim, W) #set Fim up to use the function, now that it's establisehd with a pointer\n",
    "        fim.append(temp)\n",
    "        LIB.flif_encoder_add_image_move(enc, fim[i]) #Use function to return a pointer\n",
    "            \n",
    "    #####For Output##########\n",
    "    pdest=pointer(c_uint8()) #Setting up Double Pointer. Will need to pass this on as a byref for double pointer\n",
    "    prsz=c_size_t(0);\n",
    "    \n",
    "    encmem=LIB.flif_encoder_encode_memory\n",
    "    encmem(enc, byref(pdest), byref(prsz))\n",
    "    nBytes=prsz.value\n",
    "    \n",
    "    #########Clean Up#######################\n",
    "    for fimi in fim: \n",
    "        LIB.flif_destroy_image(fimi)\n",
    "    LIB.flif_destroy_encoder(enc)\n",
    "    LIB.flif_free_memory(pdest)\n",
    "    return nBytes"
   ]
  },
  {
   "cell_type": "code",
   "execution_count": 4,
   "metadata": {},
   "outputs": [],
   "source": [
    "#n=flifPress(image_list)\n",
    "#print(n)"
   ]
  },
  {
   "cell_type": "code",
   "execution_count": 5,
   "metadata": {},
   "outputs": [],
   "source": [
    "#Construct Test Case####\n",
    "#cOMMAND LINe flif\n",
    "####NIST digits\n",
    "#Convert Training bUsedTraining"
   ]
  },
  {
   "cell_type": "markdown",
   "metadata": {},
   "source": [
    "## Testing Code Here\n",
    "#### Running test values. \n",
    "#### ztest zero array\n",
    "#### BWim - BW .png file\n",
    "#### BWtest -result"
   ]
  },
  {
   "cell_type": "code",
   "execution_count": 6,
   "metadata": {},
   "outputs": [],
   "source": [
    "ztest = np.zeros((512,512), dtype='uint8')"
   ]
  },
  {
   "cell_type": "code",
   "execution_count": 7,
   "metadata": {},
   "outputs": [
    {
     "name": "stdout",
     "output_type": "stream",
     "text": [
      "16\n"
     ]
    }
   ],
   "source": [
    "test=flifPress(ztest)\n",
    "print(test)"
   ]
  },
  {
   "cell_type": "code",
   "execution_count": 4,
   "metadata": {
    "scrolled": true
   },
   "outputs": [
    {
     "ename": "NameError",
     "evalue": "name 'py' is not defined",
     "output_type": "error",
     "traceback": [
      "\u001b[1;31m---------------------------------------------------------------------------\u001b[0m",
      "\u001b[1;31mNameError\u001b[0m                                 Traceback (most recent call last)",
      "\u001b[1;32m<ipython-input-4-60aeab772f70>\u001b[0m in \u001b[0;36m<module>\u001b[1;34m\u001b[0m\n\u001b[1;32m----> 1\u001b[1;33m \u001b[0mBWim\u001b[0m\u001b[1;33m=\u001b[0m\u001b[0mpy\u001b[0m\u001b[1;33m.\u001b[0m\u001b[0mimread\u001b[0m\u001b[1;33m(\u001b[0m\u001b[1;34m'lena.png'\u001b[0m\u001b[1;33m)\u001b[0m\u001b[1;33m\u001b[0m\u001b[1;33m\u001b[0m\u001b[0m\n\u001b[0m\u001b[0;32m      2\u001b[0m \u001b[0mprint\u001b[0m\u001b[1;33m(\u001b[0m\u001b[0mtype\u001b[0m\u001b[1;33m(\u001b[0m\u001b[0mBWim\u001b[0m\u001b[1;33m[\u001b[0m\u001b[1;36m0\u001b[0m\u001b[1;33m]\u001b[0m\u001b[1;33m[\u001b[0m\u001b[1;36m0\u001b[0m\u001b[1;33m]\u001b[0m\u001b[1;33m)\u001b[0m\u001b[1;33m)\u001b[0m\u001b[1;33m\u001b[0m\u001b[1;33m\u001b[0m\u001b[0m\n",
      "\u001b[1;31mNameError\u001b[0m: name 'py' is not defined"
     ]
    }
   ],
   "source": [
    "BWim=py.imread('lena.png')\n",
    "print(type(BWim[0][0]))"
   ]
  },
  {
   "cell_type": "code",
   "execution_count": 3,
   "metadata": {},
   "outputs": [
    {
     "ename": "NameError",
     "evalue": "name 'BWim' is not defined",
     "output_type": "error",
     "traceback": [
      "\u001b[1;31m---------------------------------------------------------------------------\u001b[0m",
      "\u001b[1;31mNameError\u001b[0m                                 Traceback (most recent call last)",
      "\u001b[1;32m<ipython-input-3-45f74815262e>\u001b[0m in \u001b[0;36m<module>\u001b[1;34m\u001b[0m\n\u001b[1;32m----> 1\u001b[1;33m \u001b[0mBWtest\u001b[0m\u001b[1;33m=\u001b[0m\u001b[0mflifPress\u001b[0m\u001b[1;33m(\u001b[0m\u001b[0mBWim\u001b[0m\u001b[1;33m)\u001b[0m\u001b[1;33m\u001b[0m\u001b[1;33m\u001b[0m\u001b[0m\n\u001b[0m\u001b[0;32m      2\u001b[0m \u001b[0mprint\u001b[0m\u001b[1;33m(\u001b[0m\u001b[0mBWtest\u001b[0m\u001b[1;33m)\u001b[0m\u001b[1;33m\u001b[0m\u001b[1;33m\u001b[0m\u001b[0m\n",
      "\u001b[1;31mNameError\u001b[0m: name 'BWim' is not defined"
     ]
    }
   ],
   "source": [
    "BWtest=flifPress(BWim)\n",
    "print(BWtest)"
   ]
  },
  {
   "cell_type": "code",
   "execution_count": null,
   "metadata": {},
   "outputs": [],
   "source": []
  },
  {
   "cell_type": "code",
   "execution_count": null,
   "metadata": {},
   "outputs": [],
   "source": []
  },
  {
   "cell_type": "code",
   "execution_count": null,
   "metadata": {},
   "outputs": [],
   "source": []
  }
 ],
 "metadata": {
  "kernelspec": {
   "display_name": "Python 3",
   "language": "python",
   "name": "python3"
  },
  "language_info": {
   "codemirror_mode": {
    "name": "ipython",
    "version": 3
   },
   "file_extension": ".py",
   "mimetype": "text/x-python",
   "name": "python",
   "nbconvert_exporter": "python",
   "pygments_lexer": "ipython3",
   "version": "3.7.6"
  }
 },
 "nbformat": 4,
 "nbformat_minor": 4
}
